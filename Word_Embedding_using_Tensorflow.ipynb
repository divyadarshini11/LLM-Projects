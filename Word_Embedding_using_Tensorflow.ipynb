{
  "nbformat": 4,
  "nbformat_minor": 0,
  "metadata": {
    "colab": {
      "provenance": [],
      "gpuType": "T4",
      "authorship_tag": "ABX9TyMz8+ll8tDeZbpTmW6gN+oT",
      "include_colab_link": true
    },
    "kernelspec": {
      "name": "python3",
      "display_name": "Python 3"
    },
    "language_info": {
      "name": "python"
    },
    "accelerator": "GPU"
  },
  "cells": [
    {
      "cell_type": "markdown",
      "metadata": {
        "id": "view-in-github",
        "colab_type": "text"
      },
      "source": [
        "<a href=\"https://colab.research.google.com/github/divyadarshini11/LLM-Projects/blob/main/Word_Embedding_using_Tensorflow.ipynb\" target=\"_parent\"><img src=\"https://colab.research.google.com/assets/colab-badge.svg\" alt=\"Open In Colab\"/></a>"
      ]
    },
    {
      "cell_type": "code",
      "source": [
        "import tensorflow as tf\n",
        "print(tf.__version__)"
      ],
      "metadata": {
        "colab": {
          "base_uri": "https://localhost:8080/"
        },
        "id": "SAVrHJlPQb0a",
        "outputId": "11146cbc-9b47-4ea6-efe8-b886437ceef0"
      },
      "execution_count": null,
      "outputs": [
        {
          "output_type": "stream",
          "name": "stdout",
          "text": [
            "2.18.0\n"
          ]
        }
      ]
    },
    {
      "cell_type": "code",
      "source": [
        "from tensorflow.keras.preprocessing.text import one_hot"
      ],
      "metadata": {
        "id": "LJdjNRYDQjKV"
      },
      "execution_count": null,
      "outputs": []
    },
    {
      "cell_type": "code",
      "source": [
        "### sentences\n",
        "corpus=[  'the glass of milk',\n",
        "     'the glass of juice',\n",
        "     'the cup of tea',\n",
        "    'I am a good boy',\n",
        "     'I am a good developer',\n",
        "     'understand the meaning of words',\n",
        "     'your videos are good']"
      ],
      "metadata": {
        "id": "FxIOfEq1QvWo"
      },
      "execution_count": null,
      "outputs": []
    },
    {
      "cell_type": "code",
      "source": [
        "corpus"
      ],
      "metadata": {
        "colab": {
          "base_uri": "https://localhost:8080/"
        },
        "id": "CWRQ9aqEQy4r",
        "outputId": "dacaf5cd-58e6-440d-9d69-d7523df63474"
      },
      "execution_count": null,
      "outputs": [
        {
          "output_type": "execute_result",
          "data": {
            "text/plain": [
              "['the glass of milk',\n",
              " 'the glass of juice',\n",
              " 'the cup of tea',\n",
              " 'I am a good boy',\n",
              " 'I am a good developer',\n",
              " 'understand the meaning of words',\n",
              " 'your videos are good']"
            ]
          },
          "metadata": {},
          "execution_count": 29
        }
      ]
    },
    {
      "cell_type": "code",
      "source": [
        "vocabulary_size = 1000"
      ],
      "metadata": {
        "id": "qkWz0tm3Q1li"
      },
      "execution_count": null,
      "outputs": []
    },
    {
      "cell_type": "code",
      "source": [
        "one_hot_representation = [one_hot(words,vocabulary_size) for words in corpus]\n",
        "print(one_hot_representation)"
      ],
      "metadata": {
        "colab": {
          "base_uri": "https://localhost:8080/"
        },
        "id": "E41Zwd57Q502",
        "outputId": "3512fc3d-f7f3-44a7-b2ac-4da9ad0e9e3e"
      },
      "execution_count": null,
      "outputs": [
        {
          "output_type": "stream",
          "name": "stdout",
          "text": [
            "[[630, 2, 791, 265], [630, 2, 791, 90], [630, 69, 791, 929], [719, 524, 206, 130, 884], [719, 524, 206, 130, 405], [310, 630, 103, 791, 586], [289, 893, 275, 130]]\n"
          ]
        }
      ]
    },
    {
      "cell_type": "code",
      "source": [
        "from tensorflow.keras.layers import Embedding, Flatten\n",
        "from tensorflow.keras.preprocessing.sequence import pad_sequences\n",
        "from tensorflow.keras.models import Sequential"
      ],
      "metadata": {
        "id": "JtVLBXlzRAT0"
      },
      "execution_count": null,
      "outputs": []
    },
    {
      "cell_type": "code",
      "source": [
        "import numpy as np"
      ],
      "metadata": {
        "id": "owZy9EAORKbG"
      },
      "execution_count": null,
      "outputs": []
    },
    {
      "cell_type": "code",
      "source": [
        "max_words_corpus = []\n",
        "for i in range (len(corpus)):\n",
        "  max_words_corpus.append(len(corpus[i].split()))\n",
        "sent_length = max(max_words_corpus)\n",
        "print(sent_length)"
      ],
      "metadata": {
        "colab": {
          "base_uri": "https://localhost:8080/"
        },
        "id": "THHJ_OOLRs8G",
        "outputId": "bbc80692-648b-4f68-d729-4225fbcc51ea"
      },
      "execution_count": null,
      "outputs": [
        {
          "output_type": "stream",
          "name": "stdout",
          "text": [
            "5\n"
          ]
        }
      ]
    },
    {
      "cell_type": "code",
      "source": [
        "embedded_corpus = pad_sequences(one_hot_representation,padding='pre',maxlen=sent_length)\n",
        "print(embedded_corpus)"
      ],
      "metadata": {
        "colab": {
          "base_uri": "https://localhost:8080/"
        },
        "id": "7ygy6oV7SvT_",
        "outputId": "09f7b143-615e-4864-febe-6fe303914967"
      },
      "execution_count": null,
      "outputs": [
        {
          "output_type": "stream",
          "name": "stdout",
          "text": [
            "[[  0 630   2 791 265]\n",
            " [  0 630   2 791  90]\n",
            " [  0 630  69 791 929]\n",
            " [719 524 206 130 884]\n",
            " [719 524 206 130 405]\n",
            " [310 630 103 791 586]\n",
            " [  0 289 893 275 130]]\n"
          ]
        }
      ]
    },
    {
      "cell_type": "code",
      "source": [
        "## Take any dimension, since dataset is small, 10 is taken\n",
        "## each word is represented in 10 x 1 vector size\n",
        "dim = 10"
      ],
      "metadata": {
        "id": "H3ZKDLjWS0_6"
      },
      "execution_count": null,
      "outputs": []
    },
    {
      "cell_type": "code",
      "source": [
        "model = Sequential()\n",
        "model.add(Embedding(vocabulary_size,dim))\n",
        "model.compile('adam','mse')"
      ],
      "metadata": {
        "id": "qve9Bk7ITHCZ"
      },
      "execution_count": null,
      "outputs": []
    },
    {
      "cell_type": "code",
      "source": [
        "model.build(input_shape=(None, sent_length))\n",
        "model.summary()"
      ],
      "metadata": {
        "colab": {
          "base_uri": "https://localhost:8080/",
          "height": 161
        },
        "id": "oTr3Fxi_TROC",
        "outputId": "61486301-9a71-4380-87a8-323330e8bc50"
      },
      "execution_count": null,
      "outputs": [
        {
          "output_type": "display_data",
          "data": {
            "text/plain": [
              "\u001b[1mModel: \"sequential_12\"\u001b[0m\n"
            ],
            "text/html": [
              "<pre style=\"white-space:pre;overflow-x:auto;line-height:normal;font-family:Menlo,'DejaVu Sans Mono',consolas,'Courier New',monospace\"><span style=\"font-weight: bold\">Model: \"sequential_12\"</span>\n",
              "</pre>\n"
            ]
          },
          "metadata": {}
        },
        {
          "output_type": "display_data",
          "data": {
            "text/plain": [
              "┏━━━━━━━━━━━━━━━━━━━━━━━━━━━━━━━━━┳━━━━━━━━━━━━━━━━━━━━━━━━┳━━━━━━━━━━━━━━━┓\n",
              "┃\u001b[1m \u001b[0m\u001b[1mLayer (type)                   \u001b[0m\u001b[1m \u001b[0m┃\u001b[1m \u001b[0m\u001b[1mOutput Shape          \u001b[0m\u001b[1m \u001b[0m┃\u001b[1m \u001b[0m\u001b[1m      Param #\u001b[0m\u001b[1m \u001b[0m┃\n",
              "┡━━━━━━━━━━━━━━━━━━━━━━━━━━━━━━━━━╇━━━━━━━━━━━━━━━━━━━━━━━━╇━━━━━━━━━━━━━━━┩\n",
              "│ embedding_12 (\u001b[38;5;33mEmbedding\u001b[0m)        │ (\u001b[38;5;45mNone\u001b[0m, \u001b[38;5;34m5\u001b[0m, \u001b[38;5;34m10\u001b[0m)          │        \u001b[38;5;34m10,000\u001b[0m │\n",
              "└─────────────────────────────────┴────────────────────────┴───────────────┘\n"
            ],
            "text/html": [
              "<pre style=\"white-space:pre;overflow-x:auto;line-height:normal;font-family:Menlo,'DejaVu Sans Mono',consolas,'Courier New',monospace\">┏━━━━━━━━━━━━━━━━━━━━━━━━━━━━━━━━━┳━━━━━━━━━━━━━━━━━━━━━━━━┳━━━━━━━━━━━━━━━┓\n",
              "┃<span style=\"font-weight: bold\"> Layer (type)                    </span>┃<span style=\"font-weight: bold\"> Output Shape           </span>┃<span style=\"font-weight: bold\">       Param # </span>┃\n",
              "┡━━━━━━━━━━━━━━━━━━━━━━━━━━━━━━━━━╇━━━━━━━━━━━━━━━━━━━━━━━━╇━━━━━━━━━━━━━━━┩\n",
              "│ embedding_12 (<span style=\"color: #0087ff; text-decoration-color: #0087ff\">Embedding</span>)        │ (<span style=\"color: #00d7ff; text-decoration-color: #00d7ff\">None</span>, <span style=\"color: #00af00; text-decoration-color: #00af00\">5</span>, <span style=\"color: #00af00; text-decoration-color: #00af00\">10</span>)          │        <span style=\"color: #00af00; text-decoration-color: #00af00\">10,000</span> │\n",
              "└─────────────────────────────────┴────────────────────────┴───────────────┘\n",
              "</pre>\n"
            ]
          },
          "metadata": {}
        },
        {
          "output_type": "display_data",
          "data": {
            "text/plain": [
              "\u001b[1m Total params: \u001b[0m\u001b[38;5;34m10,000\u001b[0m (39.06 KB)\n"
            ],
            "text/html": [
              "<pre style=\"white-space:pre;overflow-x:auto;line-height:normal;font-family:Menlo,'DejaVu Sans Mono',consolas,'Courier New',monospace\"><span style=\"font-weight: bold\"> Total params: </span><span style=\"color: #00af00; text-decoration-color: #00af00\">10,000</span> (39.06 KB)\n",
              "</pre>\n"
            ]
          },
          "metadata": {}
        },
        {
          "output_type": "display_data",
          "data": {
            "text/plain": [
              "\u001b[1m Trainable params: \u001b[0m\u001b[38;5;34m10,000\u001b[0m (39.06 KB)\n"
            ],
            "text/html": [
              "<pre style=\"white-space:pre;overflow-x:auto;line-height:normal;font-family:Menlo,'DejaVu Sans Mono',consolas,'Courier New',monospace\"><span style=\"font-weight: bold\"> Trainable params: </span><span style=\"color: #00af00; text-decoration-color: #00af00\">10,000</span> (39.06 KB)\n",
              "</pre>\n"
            ]
          },
          "metadata": {}
        },
        {
          "output_type": "display_data",
          "data": {
            "text/plain": [
              "\u001b[1m Non-trainable params: \u001b[0m\u001b[38;5;34m0\u001b[0m (0.00 B)\n"
            ],
            "text/html": [
              "<pre style=\"white-space:pre;overflow-x:auto;line-height:normal;font-family:Menlo,'DejaVu Sans Mono',consolas,'Courier New',monospace\"><span style=\"font-weight: bold\"> Non-trainable params: </span><span style=\"color: #00af00; text-decoration-color: #00af00\">0</span> (0.00 B)\n",
              "</pre>\n"
            ]
          },
          "metadata": {}
        }
      ]
    },
    {
      "cell_type": "code",
      "source": [
        "embedded_corpus[0]"
      ],
      "metadata": {
        "colab": {
          "base_uri": "https://localhost:8080/"
        },
        "id": "q6PLHbcoWOl3",
        "outputId": "2db0d743-5c0b-4afc-a98f-3d2b54372c00"
      },
      "execution_count": null,
      "outputs": [
        {
          "output_type": "execute_result",
          "data": {
            "text/plain": [
              "array([  0, 630,   2, 791, 265], dtype=int32)"
            ]
          },
          "metadata": {},
          "execution_count": 68
        }
      ]
    },
    {
      "cell_type": "code",
      "source": [
        "model.predict(np.expand_dims(embedded_corpus[0], axis=0))"
      ],
      "metadata": {
        "colab": {
          "base_uri": "https://localhost:8080/"
        },
        "id": "SGEQ2anCXpsr",
        "outputId": "965b9302-19e7-4ffc-a7c5-e71951ab94ea"
      },
      "execution_count": null,
      "outputs": [
        {
          "output_type": "stream",
          "name": "stdout",
          "text": [
            "\u001b[1m1/1\u001b[0m \u001b[32m━━━━━━━━━━━━━━━━━━━━\u001b[0m\u001b[37m\u001b[0m \u001b[1m0s\u001b[0m 36ms/step\n"
          ]
        },
        {
          "output_type": "execute_result",
          "data": {
            "text/plain": [
              "array([[[-0.03009794,  0.00562538,  0.0460328 , -0.04000401,\n",
              "         -0.04756339, -0.04215037,  0.01554015, -0.01612139,\n",
              "          0.02613289, -0.01209482],\n",
              "        [ 0.00236921,  0.01119497,  0.00365765, -0.00093289,\n",
              "          0.02535966, -0.04214375,  0.03202097,  0.00427018,\n",
              "         -0.01681857,  0.01789561],\n",
              "        [-0.00332937,  0.01876699, -0.00722075, -0.03551773,\n",
              "          0.01135454,  0.02443656, -0.02087503,  0.01692355,\n",
              "         -0.04016558, -0.02177131],\n",
              "        [ 0.02191112, -0.01660373, -0.04543627,  0.0485408 ,\n",
              "          0.01593405, -0.02249298, -0.04439706,  0.02415207,\n",
              "          0.04212452, -0.00632202],\n",
              "        [ 0.00267086, -0.02081205,  0.04302008, -0.0025622 ,\n",
              "         -0.02529146, -0.03979089, -0.01357239,  0.02392355,\n",
              "         -0.01301067, -0.03438805]]], dtype=float32)"
            ]
          },
          "metadata": {},
          "execution_count": 81
        }
      ]
    },
    {
      "cell_type": "code",
      "source": [
        "model.predict(embedded_corpus)"
      ],
      "metadata": {
        "colab": {
          "base_uri": "https://localhost:8080/"
        },
        "id": "YwEDkxivWXPY",
        "outputId": "2d748d49-ad45-4e06-b241-ae7113d94aad"
      },
      "execution_count": null,
      "outputs": [
        {
          "output_type": "stream",
          "name": "stdout",
          "text": [
            "\u001b[1m1/1\u001b[0m \u001b[32m━━━━━━━━━━━━━━━━━━━━\u001b[0m\u001b[37m\u001b[0m \u001b[1m0s\u001b[0m 101ms/step\n"
          ]
        },
        {
          "output_type": "execute_result",
          "data": {
            "text/plain": [
              "array([[[-0.03009794,  0.00562538,  0.0460328 , -0.04000401,\n",
              "         -0.04756339, -0.04215037,  0.01554015, -0.01612139,\n",
              "          0.02613289, -0.01209482],\n",
              "        [ 0.00236921,  0.01119497,  0.00365765, -0.00093289,\n",
              "          0.02535966, -0.04214375,  0.03202097,  0.00427018,\n",
              "         -0.01681857,  0.01789561],\n",
              "        [-0.00332937,  0.01876699, -0.00722075, -0.03551773,\n",
              "          0.01135454,  0.02443656, -0.02087503,  0.01692355,\n",
              "         -0.04016558, -0.02177131],\n",
              "        [ 0.02191112, -0.01660373, -0.04543627,  0.0485408 ,\n",
              "          0.01593405, -0.02249298, -0.04439706,  0.02415207,\n",
              "          0.04212452, -0.00632202],\n",
              "        [ 0.00267086, -0.02081205,  0.04302008, -0.0025622 ,\n",
              "         -0.02529146, -0.03979089, -0.01357239,  0.02392355,\n",
              "         -0.01301067, -0.03438805]],\n",
              "\n",
              "       [[-0.03009794,  0.00562538,  0.0460328 , -0.04000401,\n",
              "         -0.04756339, -0.04215037,  0.01554015, -0.01612139,\n",
              "          0.02613289, -0.01209482],\n",
              "        [ 0.00236921,  0.01119497,  0.00365765, -0.00093289,\n",
              "          0.02535966, -0.04214375,  0.03202097,  0.00427018,\n",
              "         -0.01681857,  0.01789561],\n",
              "        [-0.00332937,  0.01876699, -0.00722075, -0.03551773,\n",
              "          0.01135454,  0.02443656, -0.02087503,  0.01692355,\n",
              "         -0.04016558, -0.02177131],\n",
              "        [ 0.02191112, -0.01660373, -0.04543627,  0.0485408 ,\n",
              "          0.01593405, -0.02249298, -0.04439706,  0.02415207,\n",
              "          0.04212452, -0.00632202],\n",
              "        [ 0.01154035, -0.01215839,  0.01434335, -0.04497664,\n",
              "         -0.03343202, -0.02215037, -0.00848242, -0.01430472,\n",
              "         -0.01580686,  0.02089933]],\n",
              "\n",
              "       [[-0.03009794,  0.00562538,  0.0460328 , -0.04000401,\n",
              "         -0.04756339, -0.04215037,  0.01554015, -0.01612139,\n",
              "          0.02613289, -0.01209482],\n",
              "        [ 0.00236921,  0.01119497,  0.00365765, -0.00093289,\n",
              "          0.02535966, -0.04214375,  0.03202097,  0.00427018,\n",
              "         -0.01681857,  0.01789561],\n",
              "        [-0.00135045, -0.02544211, -0.01409552, -0.03079848,\n",
              "          0.03452516, -0.02502267, -0.04203438, -0.02430122,\n",
              "          0.01605915,  0.03771046],\n",
              "        [ 0.02191112, -0.01660373, -0.04543627,  0.0485408 ,\n",
              "          0.01593405, -0.02249298, -0.04439706,  0.02415207,\n",
              "          0.04212452, -0.00632202],\n",
              "        [-0.0294037 , -0.02464931, -0.04401015,  0.00025518,\n",
              "          0.03251367, -0.02030743, -0.03646802,  0.0388948 ,\n",
              "          0.04490665,  0.02138705]],\n",
              "\n",
              "       [[ 0.049653  ,  0.02566823, -0.01307044,  0.02906329,\n",
              "         -0.02273702,  0.012862  ,  0.0198776 ,  0.02445127,\n",
              "          0.02158405, -0.04637427],\n",
              "        [ 0.01577804, -0.00354701, -0.00577677,  0.00878964,\n",
              "          0.02142457, -0.03700204,  0.01161502,  0.02872927,\n",
              "          0.02048085,  0.03990782],\n",
              "        [-0.03010774,  0.00756414,  0.03814376,  0.00787397,\n",
              "         -0.04489205,  0.04287883, -0.0382843 ,  0.02596927,\n",
              "         -0.02512472, -0.04565793],\n",
              "        [-0.01315173, -0.00564736, -0.04753646,  0.01928912,\n",
              "         -0.00399215,  0.04020022, -0.03669398, -0.0149347 ,\n",
              "          0.02457053,  0.00203495],\n",
              "        [ 0.00358807, -0.0226513 ,  0.04534704, -0.02135295,\n",
              "          0.03410934, -0.04048169,  0.02482459,  0.04131195,\n",
              "          0.00797962,  0.03146683]],\n",
              "\n",
              "       [[ 0.049653  ,  0.02566823, -0.01307044,  0.02906329,\n",
              "         -0.02273702,  0.012862  ,  0.0198776 ,  0.02445127,\n",
              "          0.02158405, -0.04637427],\n",
              "        [ 0.01577804, -0.00354701, -0.00577677,  0.00878964,\n",
              "          0.02142457, -0.03700204,  0.01161502,  0.02872927,\n",
              "          0.02048085,  0.03990782],\n",
              "        [-0.03010774,  0.00756414,  0.03814376,  0.00787397,\n",
              "         -0.04489205,  0.04287883, -0.0382843 ,  0.02596927,\n",
              "         -0.02512472, -0.04565793],\n",
              "        [-0.01315173, -0.00564736, -0.04753646,  0.01928912,\n",
              "         -0.00399215,  0.04020022, -0.03669398, -0.0149347 ,\n",
              "          0.02457053,  0.00203495],\n",
              "        [ 0.01619885, -0.03922974,  0.00918562,  0.01337757,\n",
              "         -0.00437856,  0.03504659,  0.04388655,  0.02365834,\n",
              "         -0.01233422,  0.0028924 ]],\n",
              "\n",
              "       [[ 0.04171873,  0.00700722, -0.00222925,  0.01350344,\n",
              "          0.01814074, -0.03747774, -0.01607499, -0.04480293,\n",
              "         -0.03859588,  0.0043271 ],\n",
              "        [ 0.00236921,  0.01119497,  0.00365765, -0.00093289,\n",
              "          0.02535966, -0.04214375,  0.03202097,  0.00427018,\n",
              "         -0.01681857,  0.01789561],\n",
              "        [-0.04313933, -0.04847881,  0.00222104, -0.01592942,\n",
              "         -0.04213163, -0.0257573 ,  0.02262267,  0.01695535,\n",
              "         -0.00654956, -0.0164317 ],\n",
              "        [ 0.02191112, -0.01660373, -0.04543627,  0.0485408 ,\n",
              "          0.01593405, -0.02249298, -0.04439706,  0.02415207,\n",
              "          0.04212452, -0.00632202],\n",
              "        [ 0.04140531,  0.0081728 , -0.00918799,  0.04841712,\n",
              "         -0.00051876, -0.03000041, -0.02886684, -0.03950112,\n",
              "          0.00673511, -0.03661101]],\n",
              "\n",
              "       [[-0.03009794,  0.00562538,  0.0460328 , -0.04000401,\n",
              "         -0.04756339, -0.04215037,  0.01554015, -0.01612139,\n",
              "          0.02613289, -0.01209482],\n",
              "        [ 0.02851698, -0.00381079, -0.00556629,  0.03617692,\n",
              "          0.03697178,  0.03364127, -0.04194913,  0.00197233,\n",
              "         -0.04722921,  0.048914  ],\n",
              "        [-0.02988992,  0.02633132, -0.03661839, -0.01629338,\n",
              "         -0.00818079, -0.04596297,  0.04012182,  0.01495229,\n",
              "         -0.02154469, -0.02240669],\n",
              "        [ 0.02806953, -0.02534987, -0.04060895, -0.02256432,\n",
              "          0.01494795,  0.02878888,  0.04916661, -0.0243048 ,\n",
              "          0.03080112, -0.04470903],\n",
              "        [-0.01315173, -0.00564736, -0.04753646,  0.01928912,\n",
              "         -0.00399215,  0.04020022, -0.03669398, -0.0149347 ,\n",
              "          0.02457053,  0.00203495]]], dtype=float32)"
            ]
          },
          "metadata": {},
          "execution_count": 78
        }
      ]
    }
  ]
}